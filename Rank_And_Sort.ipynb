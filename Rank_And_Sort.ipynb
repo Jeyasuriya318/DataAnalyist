{
 "cells": [
  {
   "cell_type": "code",
   "execution_count": 1,
   "id": "332de380",
   "metadata": {},
   "outputs": [],
   "source": [
    "import numpy as np\n",
    "import pandas as pd\n",
    "from pandas import DataFrame,Series\n"
   ]
  },
  {
   "cell_type": "code",
   "execution_count": 2,
   "id": "c4fe8efc",
   "metadata": {},
   "outputs": [],
   "source": [
    "ser1 = Series(range(3),index=list('cba'))"
   ]
  },
  {
   "cell_type": "code",
   "execution_count": 3,
   "id": "499d1a57",
   "metadata": {},
   "outputs": [
    {
     "data": {
      "text/plain": [
       "c    0\n",
       "b    1\n",
       "a    2\n",
       "dtype: int64"
      ]
     },
     "execution_count": 3,
     "metadata": {},
     "output_type": "execute_result"
    }
   ],
   "source": [
    "ser1"
   ]
  },
  {
   "cell_type": "code",
   "execution_count": 4,
   "id": "4068f708",
   "metadata": {},
   "outputs": [
    {
     "data": {
      "text/plain": [
       "a    2\n",
       "b    1\n",
       "c    0\n",
       "dtype: int64"
      ]
     },
     "execution_count": 4,
     "metadata": {},
     "output_type": "execute_result"
    }
   ],
   "source": [
    "ser1.sort_index()"
   ]
  },
  {
   "cell_type": "code",
   "execution_count": 5,
   "id": "8c0f0173",
   "metadata": {},
   "outputs": [
    {
     "data": {
      "text/plain": [
       "c    0\n",
       "b    1\n",
       "a    2\n",
       "dtype: int64"
      ]
     },
     "execution_count": 5,
     "metadata": {},
     "output_type": "execute_result"
    }
   ],
   "source": [
    "ser1.sort_values()"
   ]
  },
  {
   "cell_type": "code",
   "execution_count": 13,
   "id": "7f470b68",
   "metadata": {},
   "outputs": [],
   "source": [
    "from numpy.random import randn\n",
    "ser2 = Series(randn(25))\n"
   ]
  },
  {
   "cell_type": "code",
   "execution_count": 14,
   "id": "e031cff4",
   "metadata": {},
   "outputs": [
    {
     "data": {
      "text/plain": [
       "0     1.595279\n",
       "1    -0.995278\n",
       "2     0.249033\n",
       "3    -0.181078\n",
       "4    -0.481225\n",
       "5    -1.325283\n",
       "6    -0.427885\n",
       "7    -0.125813\n",
       "8    -1.850298\n",
       "9    -1.336213\n",
       "10   -0.195703\n",
       "11   -2.176279\n",
       "12   -1.261281\n",
       "13    0.386039\n",
       "14   -0.301617\n",
       "15    0.835727\n",
       "16    0.530077\n",
       "17   -0.249867\n",
       "18   -0.453147\n",
       "19   -0.521868\n",
       "20    0.919744\n",
       "21   -1.835376\n",
       "22    0.483455\n",
       "23    0.051363\n",
       "24   -0.138836\n",
       "dtype: float64"
      ]
     },
     "execution_count": 14,
     "metadata": {},
     "output_type": "execute_result"
    }
   ],
   "source": [
    "ser2"
   ]
  },
  {
   "cell_type": "code",
   "execution_count": 15,
   "id": "e2caef1c",
   "metadata": {},
   "outputs": [
    {
     "data": {
      "text/plain": [
       "11   -2.176279\n",
       "8    -1.850298\n",
       "21   -1.835376\n",
       "9    -1.336213\n",
       "5    -1.325283\n",
       "12   -1.261281\n",
       "1    -0.995278\n",
       "19   -0.521868\n",
       "4    -0.481225\n",
       "18   -0.453147\n",
       "6    -0.427885\n",
       "14   -0.301617\n",
       "17   -0.249867\n",
       "10   -0.195703\n",
       "3    -0.181078\n",
       "24   -0.138836\n",
       "7    -0.125813\n",
       "23    0.051363\n",
       "2     0.249033\n",
       "13    0.386039\n",
       "22    0.483455\n",
       "16    0.530077\n",
       "15    0.835727\n",
       "20    0.919744\n",
       "0     1.595279\n",
       "dtype: float64"
      ]
     },
     "execution_count": 15,
     "metadata": {},
     "output_type": "execute_result"
    }
   ],
   "source": [
    "# by applying sort method we can sort by values and not by index\n",
    "ser2.sort_values()"
   ]
  },
  {
   "cell_type": "code",
   "execution_count": 16,
   "id": "57c00900",
   "metadata": {},
   "outputs": [
    {
     "data": {
      "text/plain": [
       "0     25.0\n",
       "1      7.0\n",
       "2     19.0\n",
       "3     15.0\n",
       "4      9.0\n",
       "5      5.0\n",
       "6     11.0\n",
       "7     17.0\n",
       "8      2.0\n",
       "9      4.0\n",
       "10    14.0\n",
       "11     1.0\n",
       "12     6.0\n",
       "13    20.0\n",
       "14    12.0\n",
       "15    23.0\n",
       "16    22.0\n",
       "17    13.0\n",
       "18    10.0\n",
       "19     8.0\n",
       "20    24.0\n",
       "21     3.0\n",
       "22    21.0\n",
       "23    18.0\n",
       "24    16.0\n",
       "dtype: float64"
      ]
     },
     "execution_count": 16,
     "metadata": {},
     "output_type": "execute_result"
    }
   ],
   "source": [
    "# it ranks according to the sorting done above 0 is in the 15th row\n",
    "ser2.rank()"
   ]
  },
  {
   "cell_type": "code",
   "execution_count": 17,
   "id": "449d11c8",
   "metadata": {},
   "outputs": [],
   "source": [
    "from numpy.random import randn\n",
    "ser3 = Series(randn(10))"
   ]
  },
  {
   "cell_type": "code",
   "execution_count": 18,
   "id": "f1c621e9",
   "metadata": {},
   "outputs": [
    {
     "data": {
      "text/plain": [
       "0    1.940539\n",
       "1    0.086778\n",
       "2    0.625837\n",
       "3    0.785218\n",
       "4    0.084120\n",
       "5   -1.192009\n",
       "6   -1.258787\n",
       "7    1.176451\n",
       "8    0.381783\n",
       "9    0.299265\n",
       "dtype: float64"
      ]
     },
     "execution_count": 18,
     "metadata": {},
     "output_type": "execute_result"
    }
   ],
   "source": [
    "ser3"
   ]
  },
  {
   "cell_type": "code",
   "execution_count": 19,
   "id": "e839ee31",
   "metadata": {},
   "outputs": [
    {
     "data": {
      "text/plain": [
       "0    10.0\n",
       "1     4.0\n",
       "2     7.0\n",
       "3     8.0\n",
       "4     3.0\n",
       "5     2.0\n",
       "6     1.0\n",
       "7     9.0\n",
       "8     6.0\n",
       "9     5.0\n",
       "dtype: float64"
      ]
     },
     "execution_count": 19,
     "metadata": {},
     "output_type": "execute_result"
    }
   ],
   "source": [
    "ser3.rank()"
   ]
  },
  {
   "cell_type": "code",
   "execution_count": 20,
   "id": "5a49f09f",
   "metadata": {},
   "outputs": [
    {
     "data": {
      "text/plain": [
       "6   -1.258787\n",
       "5   -1.192009\n",
       "4    0.084120\n",
       "1    0.086778\n",
       "9    0.299265\n",
       "8    0.381783\n",
       "2    0.625837\n",
       "3    0.785218\n",
       "7    1.176451\n",
       "0    1.940539\n",
       "dtype: float64"
      ]
     },
     "execution_count": 20,
     "metadata": {},
     "output_type": "execute_result"
    }
   ],
   "source": [
    "ser3.sort_values()"
   ]
  },
  {
   "cell_type": "code",
   "execution_count": 58,
   "id": "83184c3e",
   "metadata": {},
   "outputs": [
    {
     "data": {
      "text/plain": [
       "0     6.0\n",
       "1    10.0\n",
       "2     1.0\n",
       "3     4.0\n",
       "4     2.0\n",
       "5     5.0\n",
       "6     9.0\n",
       "7     7.0\n",
       "8     8.0\n",
       "9     3.0\n",
       "dtype: float64"
      ]
     },
     "execution_count": 58,
     "metadata": {},
     "output_type": "execute_result"
    }
   ],
   "source": [
    "ser3.rank()"
   ]
  },
  {
   "cell_type": "code",
   "execution_count": null,
   "id": "4142d499",
   "metadata": {},
   "outputs": [],
   "source": []
  },
  {
   "cell_type": "code",
   "execution_count": null,
   "id": "d3cfd06a",
   "metadata": {},
   "outputs": [],
   "source": []
  },
  {
   "cell_type": "code",
   "execution_count": null,
   "id": "728e1e14",
   "metadata": {},
   "outputs": [],
   "source": []
  },
  {
   "cell_type": "code",
   "execution_count": null,
   "id": "207c271f",
   "metadata": {},
   "outputs": [],
   "source": []
  },
  {
   "cell_type": "code",
   "execution_count": null,
   "id": "ff0ed86e",
   "metadata": {},
   "outputs": [],
   "source": []
  },
  {
   "cell_type": "code",
   "execution_count": null,
   "id": "ad3580e4",
   "metadata": {},
   "outputs": [],
   "source": []
  },
  {
   "cell_type": "code",
   "execution_count": null,
   "id": "0d8c1225",
   "metadata": {},
   "outputs": [],
   "source": []
  },
  {
   "cell_type": "code",
   "execution_count": null,
   "id": "b65984e6",
   "metadata": {},
   "outputs": [],
   "source": []
  },
  {
   "cell_type": "code",
   "execution_count": null,
   "id": "68c7fce3",
   "metadata": {},
   "outputs": [],
   "source": []
  },
  {
   "cell_type": "code",
   "execution_count": null,
   "id": "85fa0a55",
   "metadata": {},
   "outputs": [],
   "source": []
  },
  {
   "cell_type": "code",
   "execution_count": null,
   "id": "fd578728",
   "metadata": {},
   "outputs": [],
   "source": []
  },
  {
   "cell_type": "code",
   "execution_count": null,
   "id": "a48a1d71",
   "metadata": {},
   "outputs": [],
   "source": []
  }
 ],
 "metadata": {
  "kernelspec": {
   "display_name": "Python 3",
   "language": "python",
   "name": "python3"
  },
  "language_info": {
   "codemirror_mode": {
    "name": "ipython",
    "version": 3
   },
   "file_extension": ".py",
   "mimetype": "text/x-python",
   "name": "python",
   "nbconvert_exporter": "python",
   "pygments_lexer": "ipython3",
   "version": "3.8.8"
  }
 },
 "nbformat": 4,
 "nbformat_minor": 5
}
