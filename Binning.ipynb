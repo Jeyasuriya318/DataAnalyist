{
 "cells": [
  {
   "cell_type": "code",
   "execution_count": 1,
   "id": "e1d2ad4f",
   "metadata": {},
   "outputs": [],
   "source": [
    "import numpy as np\n",
    "import pandas as pd\n",
    "from pandas import Series,DataFrame"
   ]
  },
  {
   "cell_type": "code",
   "execution_count": 2,
   "id": "3afc8d15",
   "metadata": {},
   "outputs": [],
   "source": [
    "years = [1990,1991,1992,2008,2012,1015,1987,2008,1999]"
   ]
  },
  {
   "cell_type": "code",
   "execution_count": 3,
   "id": "e0cca70c",
   "metadata": {},
   "outputs": [],
   "source": [
    "decade_bins=[1960,1970,1980,1990,2000,2010,2020]"
   ]
  },
  {
   "cell_type": "code",
   "execution_count": 4,
   "id": "1f102194",
   "metadata": {},
   "outputs": [],
   "source": [
    "decade_cat = pd.cut(years,decade_bins)"
   ]
  },
  {
   "cell_type": "code",
   "execution_count": 5,
   "id": "2754a95a",
   "metadata": {},
   "outputs": [
    {
     "data": {
      "text/plain": [
       "[(1980.0, 1990.0], (1990.0, 2000.0], (1990.0, 2000.0], (2000.0, 2010.0], (2010.0, 2020.0], NaN, (1980.0, 1990.0], (2000.0, 2010.0], (1990.0, 2000.0]]\n",
       "Categories (6, interval[int64]): [(1960, 1970] < (1970, 1980] < (1980, 1990] < (1990, 2000] < (2000, 2010] < (2010, 2020]]"
      ]
     },
     "execution_count": 5,
     "metadata": {},
     "output_type": "execute_result"
    }
   ],
   "source": [
    "decade_cat"
   ]
  },
  {
   "cell_type": "code",
   "execution_count": 6,
   "id": "492222bd",
   "metadata": {},
   "outputs": [
    {
     "data": {
      "text/plain": [
       "IntervalIndex([(1960, 1970], (1970, 1980], (1980, 1990], (1990, 2000], (2000, 2010], (2010, 2020]],\n",
       "              closed='right',\n",
       "              dtype='interval[int64]')"
      ]
     },
     "execution_count": 6,
     "metadata": {},
     "output_type": "execute_result"
    }
   ],
   "source": [
    "decade_cat.categories"
   ]
  },
  {
   "cell_type": "code",
   "execution_count": 7,
   "id": "1b30585f",
   "metadata": {},
   "outputs": [
    {
     "data": {
      "text/plain": [
       "(1990, 2000]    3\n",
       "(1980, 1990]    2\n",
       "(2000, 2010]    2\n",
       "(2010, 2020]    1\n",
       "(1960, 1970]    0\n",
       "(1970, 1980]    0\n",
       "dtype: int64"
      ]
     },
     "execution_count": 7,
     "metadata": {},
     "output_type": "execute_result"
    }
   ],
   "source": [
    "pd.value_counts(decade_cat)"
   ]
  },
  {
   "cell_type": "code",
   "execution_count": 12,
   "id": "df2a0599",
   "metadata": {},
   "outputs": [
    {
     "name": "stdout",
     "output_type": "stream",
     "text": [
      "[(1812.6, 2012.0], (1812.6, 2012.0], (1812.6, 2012.0], (1812.6, 2012.0], (1812.6, 2012.0], (1014.0, 1214.4], (1812.6, 2012.0], (1812.6, 2012.0], (1812.6, 2012.0]]\n",
      "Categories (5, interval[float64]): [(1014.0, 1214.4] < (1214.4, 1413.8] < (1413.8, 1613.2] < (1613.2, 1812.6] < (1812.6, 2012.0]]\n"
     ]
    }
   ],
   "source": [
    "print(pd.cut(years,5,precision=1))"
   ]
  },
  {
   "cell_type": "code",
   "execution_count": null,
   "id": "75f3b86a",
   "metadata": {},
   "outputs": [],
   "source": []
  }
 ],
 "metadata": {
  "kernelspec": {
   "display_name": "Python 3",
   "language": "python",
   "name": "python3"
  },
  "language_info": {
   "codemirror_mode": {
    "name": "ipython",
    "version": 3
   },
   "file_extension": ".py",
   "mimetype": "text/x-python",
   "name": "python",
   "nbconvert_exporter": "python",
   "pygments_lexer": "ipython3",
   "version": "3.8.8"
  }
 },
 "nbformat": 4,
 "nbformat_minor": 5
}
