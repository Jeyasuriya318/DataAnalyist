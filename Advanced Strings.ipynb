{
 "cells": [
  {
   "cell_type": "code",
   "execution_count": 1,
   "id": "4da5afbe",
   "metadata": {},
   "outputs": [
    {
     "data": {
      "text/plain": [
       "'Hello world'"
      ]
     },
     "execution_count": 1,
     "metadata": {},
     "output_type": "execute_result"
    }
   ],
   "source": [
    "s = 'Hello world'\n",
    "s.capitalize()"
   ]
  },
  {
   "cell_type": "code",
   "execution_count": 2,
   "id": "ea1a8641",
   "metadata": {},
   "outputs": [
    {
     "data": {
      "text/plain": [
       "'hello world'"
      ]
     },
     "execution_count": 2,
     "metadata": {},
     "output_type": "execute_result"
    }
   ],
   "source": [
    "s.casefold()"
   ]
  },
  {
   "cell_type": "code",
   "execution_count": 9,
   "id": "35b72632",
   "metadata": {},
   "outputs": [],
   "source": [
    "s='  hello world   '"
   ]
  },
  {
   "cell_type": "code",
   "execution_count": 10,
   "id": "ba0154e8",
   "metadata": {},
   "outputs": [
    {
     "data": {
      "text/plain": [
       "'  hello world   '"
      ]
     },
     "execution_count": 10,
     "metadata": {},
     "output_type": "execute_result"
    }
   ],
   "source": [
    "s.casefold()"
   ]
  },
  {
   "cell_type": "code",
   "execution_count": 11,
   "id": "b69f5fee",
   "metadata": {},
   "outputs": [
    {
     "data": {
      "text/plain": [
       "'  hello world   '"
      ]
     },
     "execution_count": 11,
     "metadata": {},
     "output_type": "execute_result"
    }
   ],
   "source": [
    "s.center(4)"
   ]
  },
  {
   "cell_type": "code",
   "execution_count": 12,
   "id": "40dbb7bf",
   "metadata": {},
   "outputs": [
    {
     "data": {
      "text/plain": [
       "'hello world'"
      ]
     },
     "execution_count": 12,
     "metadata": {},
     "output_type": "execute_result"
    }
   ],
   "source": [
    "s.strip()"
   ]
  },
  {
   "cell_type": "code",
   "execution_count": 13,
   "id": "a19f31a4",
   "metadata": {},
   "outputs": [],
   "source": [
    "s='Hello World'"
   ]
  },
  {
   "cell_type": "code",
   "execution_count": 14,
   "id": "db8c1eae",
   "metadata": {},
   "outputs": [
    {
     "data": {
      "text/plain": [
       "True"
      ]
     },
     "execution_count": 14,
     "metadata": {},
     "output_type": "execute_result"
    }
   ],
   "source": [
    "s.endswith('d')"
   ]
  },
  {
   "cell_type": "code",
   "execution_count": 15,
   "id": "1cbfafdf",
   "metadata": {},
   "outputs": [
    {
     "data": {
      "text/plain": [
       "True"
      ]
     },
     "execution_count": 15,
     "metadata": {},
     "output_type": "execute_result"
    }
   ],
   "source": [
    "s.endswith('rld')"
   ]
  },
  {
   "cell_type": "code",
   "execution_count": 16,
   "id": "d5cc7bcd",
   "metadata": {},
   "outputs": [
    {
     "data": {
      "text/plain": [
       "True"
      ]
     },
     "execution_count": 16,
     "metadata": {},
     "output_type": "execute_result"
    }
   ],
   "source": [
    "s.startswith('Hell')"
   ]
  },
  {
   "cell_type": "code",
   "execution_count": 19,
   "id": "46e2076c",
   "metadata": {},
   "outputs": [
    {
     "data": {
      "text/plain": [
       "1"
      ]
     },
     "execution_count": 19,
     "metadata": {},
     "output_type": "execute_result"
    }
   ],
   "source": [
    "s.index('e')"
   ]
  },
  {
   "cell_type": "code",
   "execution_count": 20,
   "id": "e6575fce",
   "metadata": {},
   "outputs": [
    {
     "data": {
      "text/plain": [
       "1"
      ]
     },
     "execution_count": 20,
     "metadata": {},
     "output_type": "execute_result"
    }
   ],
   "source": [
    "s.find('ell')"
   ]
  },
  {
   "cell_type": "code",
   "execution_count": 21,
   "id": "99d589a5",
   "metadata": {},
   "outputs": [
    {
     "data": {
      "text/plain": [
       "2"
      ]
     },
     "execution_count": 21,
     "metadata": {},
     "output_type": "execute_result"
    }
   ],
   "source": [
    "s.find('llo')"
   ]
  },
  {
   "cell_type": "code",
   "execution_count": 22,
   "id": "3c189d31",
   "metadata": {},
   "outputs": [
    {
     "data": {
      "text/plain": [
       "False"
      ]
     },
     "execution_count": 22,
     "metadata": {},
     "output_type": "execute_result"
    }
   ],
   "source": [
    "s.isdigit()"
   ]
  },
  {
   "cell_type": "code",
   "execution_count": 23,
   "id": "83ef9890",
   "metadata": {},
   "outputs": [
    {
     "data": {
      "text/plain": [
       "False"
      ]
     },
     "execution_count": 23,
     "metadata": {},
     "output_type": "execute_result"
    }
   ],
   "source": [
    "s.isalpha()"
   ]
  },
  {
   "cell_type": "code",
   "execution_count": 25,
   "id": "b81a06a6",
   "metadata": {},
   "outputs": [
    {
     "data": {
      "text/plain": [
       "False"
      ]
     },
     "execution_count": 25,
     "metadata": {},
     "output_type": "execute_result"
    }
   ],
   "source": [
    "s.isalnum()"
   ]
  },
  {
   "cell_type": "code",
   "execution_count": 26,
   "id": "db316d76",
   "metadata": {},
   "outputs": [
    {
     "data": {
      "text/plain": [
       "'Hezzo Worzd'"
      ]
     },
     "execution_count": 26,
     "metadata": {},
     "output_type": "execute_result"
    }
   ],
   "source": [
    "s.replace('l','z')"
   ]
  },
  {
   "cell_type": "code",
   "execution_count": 27,
   "id": "f2b1751f",
   "metadata": {},
   "outputs": [
    {
     "data": {
      "text/plain": [
       "'hELLO wORLD'"
      ]
     },
     "execution_count": 27,
     "metadata": {},
     "output_type": "execute_result"
    }
   ],
   "source": [
    "s.swapcase()"
   ]
  },
  {
   "cell_type": "code",
   "execution_count": 28,
   "id": "05c06337",
   "metadata": {},
   "outputs": [
    {
     "data": {
      "text/plain": [
       "True"
      ]
     },
     "execution_count": 28,
     "metadata": {},
     "output_type": "execute_result"
    }
   ],
   "source": [
    "s.isprintable()"
   ]
  },
  {
   "cell_type": "code",
   "execution_count": 29,
   "id": "b06abe6f",
   "metadata": {},
   "outputs": [
    {
     "data": {
      "text/plain": [
       "False"
      ]
     },
     "execution_count": 29,
     "metadata": {},
     "output_type": "execute_result"
    }
   ],
   "source": [
    "s.isalpha()"
   ]
  },
  {
   "cell_type": "code",
   "execution_count": 30,
   "id": "2b1d1b92",
   "metadata": {},
   "outputs": [],
   "source": [
    "t='s'"
   ]
  },
  {
   "cell_type": "code",
   "execution_count": 31,
   "id": "7a489297",
   "metadata": {},
   "outputs": [
    {
     "data": {
      "text/plain": [
       "True"
      ]
     },
     "execution_count": 31,
     "metadata": {},
     "output_type": "execute_result"
    }
   ],
   "source": [
    "t.isalpha()"
   ]
  },
  {
   "cell_type": "code",
   "execution_count": 32,
   "id": "65d666e3",
   "metadata": {},
   "outputs": [
    {
     "data": {
      "text/plain": [
       "True"
      ]
     },
     "execution_count": 32,
     "metadata": {},
     "output_type": "execute_result"
    }
   ],
   "source": [
    "'   '.isspace()"
   ]
  },
  {
   "cell_type": "code",
   "execution_count": 34,
   "id": "e940fe09",
   "metadata": {},
   "outputs": [
    {
     "data": {
      "text/plain": [
       "False"
      ]
     },
     "execution_count": 34,
     "metadata": {},
     "output_type": "execute_result"
    }
   ],
   "source": [
    "s.islower()"
   ]
  },
  {
   "cell_type": "code",
   "execution_count": 35,
   "id": "6248e278",
   "metadata": {},
   "outputs": [],
   "source": [
    "t='hello'"
   ]
  },
  {
   "cell_type": "code",
   "execution_count": 36,
   "id": "d07d6c5b",
   "metadata": {},
   "outputs": [
    {
     "data": {
      "text/plain": [
       "True"
      ]
     },
     "execution_count": 36,
     "metadata": {},
     "output_type": "execute_result"
    }
   ],
   "source": [
    "t.islower()"
   ]
  },
  {
   "cell_type": "code",
   "execution_count": 37,
   "id": "c2776ffe",
   "metadata": {},
   "outputs": [
    {
     "data": {
      "text/plain": [
       "False"
      ]
     },
     "execution_count": 37,
     "metadata": {},
     "output_type": "execute_result"
    }
   ],
   "source": [
    "t.isupper()"
   ]
  },
  {
   "cell_type": "code",
   "execution_count": 38,
   "id": "ac337b21",
   "metadata": {},
   "outputs": [],
   "source": [
    "t='hEllo'"
   ]
  },
  {
   "cell_type": "code",
   "execution_count": 39,
   "id": "c66971ce",
   "metadata": {},
   "outputs": [
    {
     "data": {
      "text/plain": [
       "False"
      ]
     },
     "execution_count": 39,
     "metadata": {},
     "output_type": "execute_result"
    }
   ],
   "source": [
    "t.islower()\n"
   ]
  },
  {
   "cell_type": "code",
   "execution_count": 40,
   "id": "4ce3c884",
   "metadata": {},
   "outputs": [
    {
     "data": {
      "text/plain": [
       "False"
      ]
     },
     "execution_count": 40,
     "metadata": {},
     "output_type": "execute_result"
    }
   ],
   "source": [
    "t.isupper()"
   ]
  },
  {
   "cell_type": "code",
   "execution_count": 41,
   "id": "5170a36f",
   "metadata": {},
   "outputs": [
    {
     "data": {
      "text/plain": [
       "'hello'"
      ]
     },
     "execution_count": 41,
     "metadata": {},
     "output_type": "execute_result"
    }
   ],
   "source": [
    "t.lower()"
   ]
  },
  {
   "cell_type": "code",
   "execution_count": 42,
   "id": "3f6662ff",
   "metadata": {},
   "outputs": [
    {
     "data": {
      "text/plain": [
       "'HELLO'"
      ]
     },
     "execution_count": 42,
     "metadata": {},
     "output_type": "execute_result"
    }
   ],
   "source": [
    "t.upper()"
   ]
  },
  {
   "cell_type": "code",
   "execution_count": 45,
   "id": "e092e914",
   "metadata": {},
   "outputs": [
    {
     "data": {
      "text/plain": [
       "'hEllo'"
      ]
     },
     "execution_count": 45,
     "metadata": {},
     "output_type": "execute_result"
    }
   ],
   "source": [
    "t.translate('hi')"
   ]
  },
  {
   "cell_type": "code",
   "execution_count": 46,
   "id": "fa611d07",
   "metadata": {},
   "outputs": [],
   "source": [
    "t='hello'"
   ]
  },
  {
   "cell_type": "code",
   "execution_count": 47,
   "id": "ed4fb09d",
   "metadata": {},
   "outputs": [
    {
     "data": {
      "text/plain": [
       "'hello'"
      ]
     },
     "execution_count": 47,
     "metadata": {},
     "output_type": "execute_result"
    }
   ],
   "source": [
    "t.translate('hi')"
   ]
  },
  {
   "cell_type": "code",
   "execution_count": 48,
   "id": "414af855",
   "metadata": {},
   "outputs": [
    {
     "data": {
      "text/plain": [
       "'Hello'"
      ]
     },
     "execution_count": 48,
     "metadata": {},
     "output_type": "execute_result"
    }
   ],
   "source": [
    "t.title()\n"
   ]
  },
  {
   "cell_type": "code",
   "execution_count": 49,
   "id": "8cf6401b",
   "metadata": {},
   "outputs": [],
   "source": [
    "m = 'this is the title'"
   ]
  },
  {
   "cell_type": "code",
   "execution_count": 50,
   "id": "8a9e93bf",
   "metadata": {},
   "outputs": [
    {
     "data": {
      "text/plain": [
       "False"
      ]
     },
     "execution_count": 50,
     "metadata": {},
     "output_type": "execute_result"
    }
   ],
   "source": [
    "m.istitle()"
   ]
  },
  {
   "cell_type": "code",
   "execution_count": 51,
   "id": "d4b030cc",
   "metadata": {},
   "outputs": [],
   "source": [
    "l=m.title()"
   ]
  },
  {
   "cell_type": "code",
   "execution_count": 52,
   "id": "1f130f0b",
   "metadata": {},
   "outputs": [
    {
     "data": {
      "text/plain": [
       "'This Is The Title'"
      ]
     },
     "execution_count": 52,
     "metadata": {},
     "output_type": "execute_result"
    }
   ],
   "source": [
    "l"
   ]
  },
  {
   "cell_type": "code",
   "execution_count": 53,
   "id": "479a79ba",
   "metadata": {},
   "outputs": [
    {
     "data": {
      "text/plain": [
       "True"
      ]
     },
     "execution_count": 53,
     "metadata": {},
     "output_type": "execute_result"
    }
   ],
   "source": [
    "l.istitle()"
   ]
  },
  {
   "cell_type": "code",
   "execution_count": 54,
   "id": "2c42ccf7",
   "metadata": {},
   "outputs": [
    {
     "data": {
      "text/plain": [
       "3"
      ]
     },
     "execution_count": 54,
     "metadata": {},
     "output_type": "execute_result"
    }
   ],
   "source": [
    "l.count('T')"
   ]
  },
  {
   "cell_type": "code",
   "execution_count": 56,
   "id": "b1f02788",
   "metadata": {},
   "outputs": [
    {
     "data": {
      "text/plain": [
       "'T h i s   I s   T h e   T i t l e'"
      ]
     },
     "execution_count": 56,
     "metadata": {},
     "output_type": "execute_result"
    }
   ],
   "source": [
    "' '.join(l)"
   ]
  },
  {
   "cell_type": "code",
   "execution_count": 57,
   "id": "a9fabff3",
   "metadata": {},
   "outputs": [],
   "source": [
    "t= ' '.join(l)"
   ]
  },
  {
   "cell_type": "code",
   "execution_count": 58,
   "id": "8f32d064",
   "metadata": {},
   "outputs": [
    {
     "data": {
      "text/plain": [
       "'T h i s   I s   T h e   T i t l e'"
      ]
     },
     "execution_count": 58,
     "metadata": {},
     "output_type": "execute_result"
    }
   ],
   "source": [
    "t\n"
   ]
  },
  {
   "cell_type": "code",
   "execution_count": 59,
   "id": "d9ce3a6e",
   "metadata": {},
   "outputs": [
    {
     "data": {
      "text/plain": [
       "['T',\n",
       " 'h',\n",
       " 'i',\n",
       " 's',\n",
       " '',\n",
       " '',\n",
       " 'I',\n",
       " 's',\n",
       " '',\n",
       " '',\n",
       " 'T',\n",
       " 'h',\n",
       " 'e',\n",
       " '',\n",
       " '',\n",
       " 'T',\n",
       " 'i',\n",
       " 't',\n",
       " 'l',\n",
       " 'e']"
      ]
     },
     "execution_count": 59,
     "metadata": {},
     "output_type": "execute_result"
    }
   ],
   "source": [
    "t.split(' ')"
   ]
  },
  {
   "cell_type": "code",
   "execution_count": 2,
   "id": "3674d94e",
   "metadata": {},
   "outputs": [],
   "source": [
    "t='33434'"
   ]
  },
  {
   "cell_type": "code",
   "execution_count": 3,
   "id": "06abec5e",
   "metadata": {},
   "outputs": [
    {
     "data": {
      "text/plain": [
       "True"
      ]
     },
     "execution_count": 3,
     "metadata": {},
     "output_type": "execute_result"
    }
   ],
   "source": [
    "t.isalnum()"
   ]
  },
  {
   "cell_type": "code",
   "execution_count": 4,
   "id": "722d2b3b",
   "metadata": {},
   "outputs": [],
   "source": [
    "t='idid'"
   ]
  },
  {
   "cell_type": "code",
   "execution_count": 5,
   "id": "44e1ccdd",
   "metadata": {},
   "outputs": [
    {
     "data": {
      "text/plain": [
       "True"
      ]
     },
     "execution_count": 5,
     "metadata": {},
     "output_type": "execute_result"
    }
   ],
   "source": [
    "t.isalpha()"
   ]
  },
  {
   "cell_type": "code",
   "execution_count": 6,
   "id": "b9da8999",
   "metadata": {},
   "outputs": [],
   "source": [
    "t='idid '"
   ]
  },
  {
   "cell_type": "code",
   "execution_count": 7,
   "id": "165b7809",
   "metadata": {},
   "outputs": [
    {
     "data": {
      "text/plain": [
       "False"
      ]
     },
     "execution_count": 7,
     "metadata": {},
     "output_type": "execute_result"
    }
   ],
   "source": [
    "t.isalpha()"
   ]
  },
  {
   "cell_type": "code",
   "execution_count": 8,
   "id": "72480486",
   "metadata": {},
   "outputs": [],
   "source": [
    "t='hello word'"
   ]
  },
  {
   "cell_type": "code",
   "execution_count": 9,
   "id": "12eb769d",
   "metadata": {},
   "outputs": [
    {
     "data": {
      "text/plain": [
       "'zzzzzhello wordzzzzz'"
      ]
     },
     "execution_count": 9,
     "metadata": {},
     "output_type": "execute_result"
    }
   ],
   "source": [
    "t.center(20,'z')"
   ]
  },
  {
   "cell_type": "code",
   "execution_count": 13,
   "id": "76353e94",
   "metadata": {},
   "outputs": [
    {
     "data": {
      "text/plain": [
       "'hello word'"
      ]
     },
     "execution_count": 13,
     "metadata": {},
     "output_type": "execute_result"
    }
   ],
   "source": [
    "t.expandtabs(tabsize=8)"
   ]
  },
  {
   "cell_type": "code",
   "execution_count": 15,
   "id": "96c17efb",
   "metadata": {},
   "outputs": [],
   "source": [
    "t_num = 'suriya'"
   ]
  },
  {
   "cell_type": "code",
   "execution_count": 16,
   "id": "b82762c2",
   "metadata": {},
   "outputs": [
    {
     "data": {
      "text/plain": [
       "True"
      ]
     },
     "execution_count": 16,
     "metadata": {},
     "output_type": "execute_result"
    }
   ],
   "source": [
    "t_num.isidentifier()"
   ]
  },
  {
   "cell_type": "code",
   "execution_count": 17,
   "id": "b8a7403f",
   "metadata": {},
   "outputs": [
    {
     "name": "stdout",
     "output_type": "stream",
     "text": [
      "suriya\n"
     ]
    }
   ],
   "source": [
    "print(t_num)"
   ]
  },
  {
   "cell_type": "code",
   "execution_count": 21,
   "id": "832b7190",
   "metadata": {},
   "outputs": [
    {
     "name": "stdout",
     "output_type": "stream",
     "text": [
      "suriya is my name\n"
     ]
    }
   ],
   "source": [
    "print(f'{t_num} is my name')"
   ]
  },
  {
   "cell_type": "code",
   "execution_count": 22,
   "id": "a39c0fe1",
   "metadata": {},
   "outputs": [
    {
     "name": "stdout",
     "output_type": "stream",
     "text": [
      "suriya is my name\n"
     ]
    }
   ],
   "source": [
    "print('{} is my name'.format(t_num))"
   ]
  },
  {
   "cell_type": "code",
   "execution_count": 23,
   "id": "0e71d419",
   "metadata": {},
   "outputs": [
    {
     "name": "stdout",
     "output_type": "stream",
     "text": [
      "suriya is my name\n"
     ]
    }
   ],
   "source": [
    "print('%s is my name'%(t_num))"
   ]
  },
  {
   "cell_type": "code",
   "execution_count": 24,
   "id": "45bc6d39",
   "metadata": {},
   "outputs": [],
   "source": [
    "t='hello\\thi'"
   ]
  },
  {
   "cell_type": "code",
   "execution_count": 25,
   "id": "b0619ed5",
   "metadata": {},
   "outputs": [
    {
     "data": {
      "text/plain": [
       "'hello\\thi'"
      ]
     },
     "execution_count": 25,
     "metadata": {},
     "output_type": "execute_result"
    }
   ],
   "source": [
    "t"
   ]
  },
  {
   "cell_type": "code",
   "execution_count": 26,
   "id": "b59bf73e",
   "metadata": {},
   "outputs": [
    {
     "data": {
      "text/plain": [
       "'hello   hi'"
      ]
     },
     "execution_count": 26,
     "metadata": {},
     "output_type": "execute_result"
    }
   ],
   "source": [
    "t.expandtabs()"
   ]
  },
  {
   "cell_type": "code",
   "execution_count": 27,
   "id": "6fa500c3",
   "metadata": {},
   "outputs": [
    {
     "name": "stdout",
     "output_type": "stream",
     "text": [
      "hello\thi\n"
     ]
    }
   ],
   "source": [
    "print(t)"
   ]
  },
  {
   "cell_type": "code",
   "execution_count": 28,
   "id": "15ec5ef8",
   "metadata": {},
   "outputs": [],
   "source": [
    "s='hello'"
   ]
  },
  {
   "cell_type": "code",
   "execution_count": 29,
   "id": "682a56d5",
   "metadata": {},
   "outputs": [
    {
     "data": {
      "text/plain": [
       "True"
      ]
     },
     "execution_count": 29,
     "metadata": {},
     "output_type": "execute_result"
    }
   ],
   "source": [
    "s.isalnum()"
   ]
  },
  {
   "cell_type": "code",
   "execution_count": 31,
   "id": "d9576f4f",
   "metadata": {},
   "outputs": [
    {
     "data": {
      "text/plain": [
       "False"
      ]
     },
     "execution_count": 31,
     "metadata": {},
     "output_type": "execute_result"
    }
   ],
   "source": [
    "s.isdigit()"
   ]
  },
  {
   "cell_type": "code",
   "execution_count": 32,
   "id": "9f6fc66d",
   "metadata": {},
   "outputs": [],
   "source": [
    "t=10"
   ]
  },
  {
   "cell_type": "code",
   "execution_count": null,
   "id": "e5d61957",
   "metadata": {},
   "outputs": [],
   "source": [
    "t.is"
   ]
  }
 ],
 "metadata": {
  "kernelspec": {
   "display_name": "Python 3",
   "language": "python",
   "name": "python3"
  },
  "language_info": {
   "codemirror_mode": {
    "name": "ipython",
    "version": 3
   },
   "file_extension": ".py",
   "mimetype": "text/x-python",
   "name": "python",
   "nbconvert_exporter": "python",
   "pygments_lexer": "ipython3",
   "version": "3.8.8"
  }
 },
 "nbformat": 4,
 "nbformat_minor": 5
}
