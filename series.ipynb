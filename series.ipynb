{
 "cells": [
  {
   "cell_type": "code",
   "execution_count": 2,
   "id": "427d9222",
   "metadata": {},
   "outputs": [],
   "source": [
    "import numpy as np\n",
    "import pandas as pd\n",
    "from pandas import Series,DataFrame"
   ]
  },
  {
   "cell_type": "code",
   "execution_count": 3,
   "id": "a323c505",
   "metadata": {},
   "outputs": [],
   "source": [
    "obj = Series([1,2,3,4,5])"
   ]
  },
  {
   "cell_type": "code",
   "execution_count": 4,
   "id": "9f981047",
   "metadata": {},
   "outputs": [],
   "source": [
    "obj6 = DataFrame(obj)"
   ]
  },
  {
   "cell_type": "code",
   "execution_count": 6,
   "id": "a0aa6dc1",
   "metadata": {},
   "outputs": [
    {
     "data": {
      "text/plain": [
       "0    1\n",
       "1    2\n",
       "2    3\n",
       "3    4\n",
       "4    5\n",
       "dtype: int64"
      ]
     },
     "execution_count": 6,
     "metadata": {},
     "output_type": "execute_result"
    }
   ],
   "source": [
    "obj"
   ]
  },
  {
   "cell_type": "code",
   "execution_count": 39,
   "id": "e03fbe86",
   "metadata": {},
   "outputs": [
    {
     "data": {
      "text/plain": [
       "array([1, 2, 3, 4, 5], dtype=int64)"
      ]
     },
     "execution_count": 39,
     "metadata": {},
     "output_type": "execute_result"
    }
   ],
   "source": [
    "obj.values"
   ]
  },
  {
   "cell_type": "code",
   "execution_count": 40,
   "id": "db43f95e",
   "metadata": {},
   "outputs": [
    {
     "data": {
      "text/plain": [
       "RangeIndex(start=0, stop=5, step=1)"
      ]
     },
     "execution_count": 40,
     "metadata": {},
     "output_type": "execute_result"
    }
   ],
   "source": [
    "obj.index"
   ]
  },
  {
   "cell_type": "code",
   "execution_count": 41,
   "id": "2c340669",
   "metadata": {},
   "outputs": [],
   "source": [
    "ww2_cas = Series([12,23,34,45],index=['Ussr','Germany','Usa','India'])"
   ]
  },
  {
   "cell_type": "code",
   "execution_count": 42,
   "id": "183f9c43",
   "metadata": {},
   "outputs": [
    {
     "data": {
      "text/plain": [
       "Ussr       12\n",
       "Germany    23\n",
       "Usa        34\n",
       "India      45\n",
       "dtype: int64"
      ]
     },
     "execution_count": 42,
     "metadata": {},
     "output_type": "execute_result"
    }
   ],
   "source": [
    "ww2_cas"
   ]
  },
  {
   "cell_type": "code",
   "execution_count": 43,
   "id": "a16626a6",
   "metadata": {},
   "outputs": [
    {
     "data": {
      "text/plain": [
       "34"
      ]
     },
     "execution_count": 43,
     "metadata": {},
     "output_type": "execute_result"
    }
   ],
   "source": [
    "ww2_cas['Usa']"
   ]
  },
  {
   "cell_type": "code",
   "execution_count": 44,
   "id": "2914bf49",
   "metadata": {},
   "outputs": [],
   "source": [
    "ww2_cas['Usa']=78"
   ]
  },
  {
   "cell_type": "code",
   "execution_count": 45,
   "id": "f32871c4",
   "metadata": {},
   "outputs": [
    {
     "data": {
      "text/plain": [
       "Ussr       12\n",
       "Germany    23\n",
       "Usa        78\n",
       "India      45\n",
       "dtype: int64"
      ]
     },
     "execution_count": 45,
     "metadata": {},
     "output_type": "execute_result"
    }
   ],
   "source": [
    "ww2_cas"
   ]
  },
  {
   "cell_type": "code",
   "execution_count": 46,
   "id": "1fb502d1",
   "metadata": {},
   "outputs": [
    {
     "data": {
      "text/plain": [
       "Germany    23\n",
       "Usa        78\n",
       "India      45\n",
       "dtype: int64"
      ]
     },
     "execution_count": 46,
     "metadata": {},
     "output_type": "execute_result"
    }
   ],
   "source": [
    "ww2_cas[ww2_cas>=23]"
   ]
  },
  {
   "cell_type": "code",
   "execution_count": 49,
   "id": "62112e82",
   "metadata": {},
   "outputs": [],
   "source": [
    "ww2_dict = ww2_cas.to_dict()"
   ]
  },
  {
   "cell_type": "code",
   "execution_count": 50,
   "id": "7a86fabe",
   "metadata": {},
   "outputs": [
    {
     "data": {
      "text/plain": [
       "{'Ussr': 12, 'Germany': 23, 'Usa': 78, 'India': 45}"
      ]
     },
     "execution_count": 50,
     "metadata": {},
     "output_type": "execute_result"
    }
   ],
   "source": [
    "ww2_dict"
   ]
  },
  {
   "cell_type": "code",
   "execution_count": 51,
   "id": "899bd923",
   "metadata": {},
   "outputs": [],
   "source": [
    "ww2_series = Series(ww2_dict)"
   ]
  },
  {
   "cell_type": "code",
   "execution_count": 52,
   "id": "f4057c67",
   "metadata": {},
   "outputs": [
    {
     "data": {
      "text/plain": [
       "Ussr       12\n",
       "Germany    23\n",
       "Usa        78\n",
       "India      45\n",
       "dtype: int64"
      ]
     },
     "execution_count": 52,
     "metadata": {},
     "output_type": "execute_result"
    }
   ],
   "source": [
    "ww2_series"
   ]
  },
  {
   "cell_type": "code",
   "execution_count": 53,
   "id": "b6b42d43",
   "metadata": {},
   "outputs": [],
   "source": [
    "values = [10000,20000,30000,40000,50000]"
   ]
  },
  {
   "cell_type": "code",
   "execution_count": 58,
   "id": "8403c4b1",
   "metadata": {},
   "outputs": [],
   "source": [
    "countries = ['China','Germany','Japan','usa','India','Argentina']"
   ]
  },
  {
   "cell_type": "code",
   "execution_count": 59,
   "id": "5ab996cf",
   "metadata": {},
   "outputs": [
    {
     "ename": "ValueError",
     "evalue": "Length of passed values is 5, index implies 6.",
     "output_type": "error",
     "traceback": [
      "\u001b[1;31m---------------------------------------------------------------------------\u001b[0m",
      "\u001b[1;31mValueError\u001b[0m                                Traceback (most recent call last)",
      "\u001b[1;32m<ipython-input-59-04f4cf89530c>\u001b[0m in \u001b[0;36m<module>\u001b[1;34m\u001b[0m\n\u001b[1;32m----> 1\u001b[1;33m \u001b[0mobj2\u001b[0m \u001b[1;33m=\u001b[0m \u001b[0mSeries\u001b[0m\u001b[1;33m(\u001b[0m\u001b[0mvalues\u001b[0m\u001b[1;33m,\u001b[0m\u001b[0mindex\u001b[0m\u001b[1;33m=\u001b[0m\u001b[0mcountries\u001b[0m\u001b[1;33m)\u001b[0m\u001b[1;33m\u001b[0m\u001b[1;33m\u001b[0m\u001b[0m\n\u001b[0m",
      "\u001b[1;32m~\\anaconda3\\lib\\site-packages\\pandas\\core\\series.py\u001b[0m in \u001b[0;36m__init__\u001b[1;34m(self, data, index, dtype, name, copy, fastpath)\u001b[0m\n\u001b[0;32m    348\u001b[0m                 \u001b[1;32mtry\u001b[0m\u001b[1;33m:\u001b[0m\u001b[1;33m\u001b[0m\u001b[1;33m\u001b[0m\u001b[0m\n\u001b[0;32m    349\u001b[0m                     \u001b[1;32mif\u001b[0m \u001b[0mlen\u001b[0m\u001b[1;33m(\u001b[0m\u001b[0mindex\u001b[0m\u001b[1;33m)\u001b[0m \u001b[1;33m!=\u001b[0m \u001b[0mlen\u001b[0m\u001b[1;33m(\u001b[0m\u001b[0mdata\u001b[0m\u001b[1;33m)\u001b[0m\u001b[1;33m:\u001b[0m\u001b[1;33m\u001b[0m\u001b[1;33m\u001b[0m\u001b[0m\n\u001b[1;32m--> 350\u001b[1;33m                         raise ValueError(\n\u001b[0m\u001b[0;32m    351\u001b[0m                             \u001b[1;34mf\"Length of passed values is {len(data)}, \"\u001b[0m\u001b[1;33m\u001b[0m\u001b[1;33m\u001b[0m\u001b[0m\n\u001b[0;32m    352\u001b[0m                             \u001b[1;34mf\"index implies {len(index)}.\"\u001b[0m\u001b[1;33m\u001b[0m\u001b[1;33m\u001b[0m\u001b[0m\n",
      "\u001b[1;31mValueError\u001b[0m: Length of passed values is 5, index implies 6."
     ]
    }
   ],
   "source": [
    "obj2 = Series(values,index=countries)"
   ]
  },
  {
   "cell_type": "code",
   "execution_count": 60,
   "id": "137e39d4",
   "metadata": {},
   "outputs": [
    {
     "data": {
      "text/plain": [
       "China      10000\n",
       "Germany    20000\n",
       "Japan      30000\n",
       "usa        40000\n",
       "India      50000\n",
       "dtype: int64"
      ]
     },
     "execution_count": 60,
     "metadata": {},
     "output_type": "execute_result"
    }
   ],
   "source": [
    "obj2"
   ]
  },
  {
   "cell_type": "code",
   "execution_count": 57,
   "id": "22630c69",
   "metadata": {},
   "outputs": [
    {
     "data": {
      "text/plain": [
       "China      False\n",
       "Germany    False\n",
       "Japan      False\n",
       "usa        False\n",
       "India      False\n",
       "dtype: bool"
      ]
     },
     "execution_count": 57,
     "metadata": {},
     "output_type": "execute_result"
    }
   ],
   "source": [
    "obj2.isnull()"
   ]
  },
  {
   "cell_type": "code",
   "execution_count": 61,
   "id": "bee080b6",
   "metadata": {},
   "outputs": [
    {
     "data": {
      "text/plain": [
       "China      False\n",
       "Germany    False\n",
       "Japan      False\n",
       "usa        False\n",
       "India      False\n",
       "dtype: bool"
      ]
     },
     "execution_count": 61,
     "metadata": {},
     "output_type": "execute_result"
    }
   ],
   "source": [
    "pd.isnull(obj2)"
   ]
  },
  {
   "cell_type": "code",
   "execution_count": 62,
   "id": "76e2830d",
   "metadata": {},
   "outputs": [
    {
     "data": {
      "text/plain": [
       "China      True\n",
       "Germany    True\n",
       "Japan      True\n",
       "usa        True\n",
       "India      True\n",
       "dtype: bool"
      ]
     },
     "execution_count": 62,
     "metadata": {},
     "output_type": "execute_result"
    }
   ],
   "source": [
    "pd.notnull(obj2)"
   ]
  },
  {
   "cell_type": "code",
   "execution_count": 63,
   "id": "e8476b32",
   "metadata": {},
   "outputs": [
    {
     "data": {
      "text/plain": [
       "China          NaN\n",
       "Germany    20023.0\n",
       "India      50045.0\n",
       "Japan          NaN\n",
       "Usa            NaN\n",
       "Ussr           NaN\n",
       "usa            NaN\n",
       "dtype: float64"
      ]
     },
     "execution_count": 63,
     "metadata": {},
     "output_type": "execute_result"
    }
   ],
   "source": [
    "obj2+ww2_cas"
   ]
  },
  {
   "cell_type": "code",
   "execution_count": 64,
   "id": "f65f1684",
   "metadata": {},
   "outputs": [],
   "source": [
    "obj2.name = 'info'"
   ]
  },
  {
   "cell_type": "code",
   "execution_count": 65,
   "id": "88070d5c",
   "metadata": {},
   "outputs": [
    {
     "data": {
      "text/plain": [
       "China      10000\n",
       "Germany    20000\n",
       "Japan      30000\n",
       "usa        40000\n",
       "India      50000\n",
       "Name: info, dtype: int64"
      ]
     },
     "execution_count": 65,
     "metadata": {},
     "output_type": "execute_result"
    }
   ],
   "source": [
    "obj2"
   ]
  },
  {
   "cell_type": "code",
   "execution_count": 66,
   "id": "006bbc63",
   "metadata": {},
   "outputs": [],
   "source": [
    "obj2.index.name='countries'"
   ]
  },
  {
   "cell_type": "code",
   "execution_count": 69,
   "id": "fb88a8e4",
   "metadata": {
    "scrolled": false
   },
   "outputs": [
    {
     "data": {
      "text/plain": [
       "countries\n",
       "China      10000\n",
       "Germany    20000\n",
       "Japan      30000\n",
       "usa        40000\n",
       "India      50000\n",
       "Name: info, dtype: int64"
      ]
     },
     "execution_count": 69,
     "metadata": {},
     "output_type": "execute_result"
    }
   ],
   "source": [
    "obj2"
   ]
  },
  {
   "cell_type": "code",
   "execution_count": null,
   "id": "e5e1517f",
   "metadata": {},
   "outputs": [],
   "source": []
  },
  {
   "cell_type": "code",
   "execution_count": null,
   "id": "9bc8e578",
   "metadata": {},
   "outputs": [],
   "source": []
  }
 ],
 "metadata": {
  "kernelspec": {
   "display_name": "Python 3",
   "language": "python",
   "name": "python3"
  },
  "language_info": {
   "codemirror_mode": {
    "name": "ipython",
    "version": 3
   },
   "file_extension": ".py",
   "mimetype": "text/x-python",
   "name": "python",
   "nbconvert_exporter": "python",
   "pygments_lexer": "ipython3",
   "version": "3.8.8"
  }
 },
 "nbformat": 4,
 "nbformat_minor": 5
}
